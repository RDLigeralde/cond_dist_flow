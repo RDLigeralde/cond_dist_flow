{
  "nbformat": 4,
  "nbformat_minor": 0,
  "metadata": {
    "colab": {
      "provenance": []
    },
    "kernelspec": {
      "name": "python3",
      "display_name": "Python 3"
    },
    "language_info": {
      "name": "python"
    }
  },
  "cells": [
    {
      "cell_type": "code",
      "source": [
        "#For saving plots automatically\n",
        "from google.colab import files\n",
        "\n",
        "#For using external files\n",
        "\n",
        "import jax\n",
        "from jax import grad, jit, vmap, jacfwd\n",
        "import jax.numpy as jnp\n",
        "import jax.numpy.linalg as jla\n",
        "from functools import partial\n",
        "\n",
        "import scipy\n",
        "import numpy as np\n",
        "\n",
        "import numpy.matlib\n",
        "import matplotlib.pyplot as plt\n",
        "\n",
        "import time"
      ],
      "metadata": {
        "id": "oiF2dT_9Vimt"
      },
      "execution_count": null,
      "outputs": []
    },
    {
      "cell_type": "code",
      "execution_count": null,
      "metadata": {
        "id": "5RtNSrCMVetr"
      },
      "outputs": [],
      "source": [
        "#ndim of data\n",
        "dim = 2\n",
        "\n",
        "#Polynomial Kernel\n",
        "@jit\n",
        "def poly_kernel(X, Y, bw):\n",
        "\n",
        "  innprod = X.T @ Y\n",
        "  rf = (bw * innprod + 1) ** 4\n",
        "\n",
        "  return rf\n",
        "\n",
        "grad_poly = jit(grad(poly_kernel, argnums = 0))\n",
        "\n",
        "grads_poly_xs = jit(vmap(grad_poly, in_axes = (0, None, None)))\n",
        "\n",
        "grads_poly = jit(vmap(grads_poly_xs, in_axes = (None, 0, 0), out_axes = 2))\n",
        "\n",
        "@jit\n",
        "def RHS_poly(X, Xcurr, Xtarg, bw, bwtar):\n",
        "\n",
        "  aux1 = jnp.mean(grads_poly(X, Xcurr, bw), 2)\n",
        "  aux2 = jnp.mean(grads_poly(X, Xtarg, bwtar), 2)\n",
        "\n",
        "  out = aux1 - aux2\n",
        "  return out.T\n"
      ]
    }
  ]
}