{
  "nbformat": 4,
  "nbformat_minor": 0,
  "metadata": {
    "colab": {
      "provenance": []
    },
    "kernelspec": {
      "name": "python3",
      "display_name": "Python 3"
    },
    "language_info": {
      "name": "python"
    }
  },
  "cells": [
    {
      "cell_type": "code",
      "source": [
        "from jax import jit, vmap\n",
        "import jax.numpy as jnp\n",
        "import jax.numpy.linalg as jla\n",
        "import numpy as np"
      ],
      "metadata": {
        "id": "ImM-9-o6bgDe"
      },
      "execution_count": null,
      "outputs": []
    },
    {
      "cell_type": "code",
      "execution_count": null,
      "metadata": {
        "id": "k0dRmqhyZ1ZG"
      },
      "outputs": [],
      "source": [
        "\"\"\"\n",
        "Density calculation:\n",
        "Experiment 1: average of x, y stdevs\n",
        "\"\"\"\n",
        "\n",
        "#Returns scalar\n",
        "@jit\n",
        "def std_density(subarray):\n",
        "  trans = subarray.T\n",
        "  xs = trans[0]\n",
        "  ys = trans[1]\n",
        "  r_stdevs = (jnp.std(xs) + jnp.std(ys)) / 2\n",
        "  return r_stdevs\n",
        "\n",
        "densities = jit(vmap(std_density))\n",
        "\n",
        "\"\"\"\n",
        "Experiment 2: average Euclidean distance around a centerpoint\n",
        "Going to try scaling\n",
        "\n",
        "Distance from:\n",
        "https://www.reddit.com/r/learnpython/comments/ypumzn/calculating_euclidean_distance_between_1_point/\n",
        "u/lanemik\n",
        "\"\"\"\n",
        "\n",
        "@jit\n",
        "def c_dist(center, neighbors):\n",
        "  c = jnp.array([center])\n",
        "  ds = jnp.array(neighbors)\n",
        "  d_array = jnp.linalg.norm(c - ds, axis = 1)\n",
        "  d_mean = jnp.mean(d_array)\n",
        "  return d_mean\n",
        "\n",
        "c_dists = jit(vmap(c_dist, in_axes = (0, 0)))\n",
        "\n"
      ]
    },
    {
      "cell_type": "code",
      "source": [
        "\"\"\"\n",
        "Composite function for neighborhood spread method\n",
        "Takes array of sorted points A, creates array of arrays B s.t B[i] are neighbors of A[i]\n",
        "Then finds the mean Euclidean distance of each A[i] from the points in their B[i]\n",
        "\"\"\"\n",
        "\n",
        "def neighbor_split(array, size):\n",
        "\n",
        "    pad = jnp.floor(size / 2).astype(int)\n",
        "    count = len(array) - size + 1\n",
        "\n",
        "    indices = jnp.arange(0, count)\n",
        "    A_center = array[indices[:, jnp.newaxis] + jnp.arange(size)]\n",
        "\n",
        "    A_left = jnp.repeat(jnp.array([A_center[0]]), pad, axis = 0)\n",
        "    A_right = jnp.repeat(jnp.array([A_center[-1]]), pad, axis = 0)\n",
        "\n",
        "    result = jnp.concatenate([A_left, A_center, A_right], axis = 0)\n",
        "    return result\n",
        "\n",
        "#Modified sigmoid to smoothly map distance data to range of desirable lrs\n",
        "@jit\n",
        "def set_range(x, min, max):\n",
        "  numer = 2 * (max - min)\n",
        "  denom = 1 + jnp.exp(-x)\n",
        "  result = (numer / denom) + (2 * min - max)\n",
        "  return result\n",
        "\n",
        "#Generalize to array of distances\n",
        "set_ranges = jit(vmap(set_range, in_axes = (0, None, None)))\n",
        "\n",
        "def dists(array, size, min, max):\n",
        "\n",
        "  dists = c_dists(array, neighbor_split(array, size))\n",
        "  return set_ranges(dists, min, max)"
      ],
      "metadata": {
        "id": "zje4WBNAaLS5"
      },
      "execution_count": null,
      "outputs": []
    },
    {
      "cell_type": "code",
      "source": [
        "\"\"\"\n",
        "Use nearest neighborhood approach to determine learning rate for each datapoint\n",
        "\"\"\"\n",
        "\n",
        "#Minimum distance in xbetween a target point and a comparison array\n",
        "@jit\n",
        "def nearest_neighbor(x, ys):\n",
        "  diffs = jla.norm(ys - x, axis = 1)\n",
        "  closest = jnp.min(diffs)\n",
        "  return closest\n",
        "\n",
        "#Extend to target array, comparison array\n",
        "nearest_neighbors = jit(vmap(nearest_neighbor, in_axes = (0, None)))\n",
        "\n",
        "#Use above to assign learning rates\n",
        "@jit\n",
        "def make_lrs(starting, target, min, max):\n",
        "  diffs = nearest_neighbors(starting, target)\n",
        "  lrs = set_ranges(diffs, min, max)\n",
        "  return jnp.expand_dims(lrs, axis = 1)"
      ],
      "metadata": {
        "id": "6euqWBBXaJK0"
      },
      "execution_count": null,
      "outputs": []
    },
    {
      "cell_type": "code",
      "source": [
        "\"\"\"\n",
        "For creating triangular cost matrix\n",
        "\"\"\"\n",
        "\n",
        "def make_lambda(lam, numpar, numobs):\n",
        "\n",
        "  aux_param = jnp.ones(numpar)\n",
        "  aux_param = jnp.ones(numpar)\n",
        "  aux_obs = (1/lam) * jnp.ones(numobs)\n",
        "\n",
        "  lamMat = jnp.diag(np.hstack((aux_param,aux_obs)), 0)\n",
        "  return lamMat"
      ],
      "metadata": {
        "id": "HwBfD95taUCx"
      },
      "execution_count": null,
      "outputs": []
    }
  ]
}