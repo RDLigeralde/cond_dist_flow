{
  "cells": [
    {
      "cell_type": "code",
      "source": [
        "!git clone https://github.com/RobertoLig/cond-data-flow.git"
      ],
      "metadata": {
        "id": "nXzt7MHXTo3T",
        "outputId": "59b65c47-d522-4e3e-d2ce-a6178707651d",
        "colab": {
          "base_uri": "https://localhost:8080/"
        }
      },
      "execution_count": null,
      "outputs": [
        {
          "output_type": "stream",
          "name": "stdout",
          "text": [
            "Cloning into 'cond-data-flow'...\n",
            "fatal: could not read Username for 'https://github.com': No such device or address\n"
          ]
        }
      ]
    },
    {
      "cell_type": "code",
      "source": [
        "#For saving plots automatically\n",
        "from google.colab import files\n",
        "\n",
        "#To load external functions\n",
        "from google.colab import drive\n",
        "drive.mount('/content/drive')\n",
        "\n",
        "!git clone git@github.com:RobertoLig/cond-data-flow.git\n",
        "\n",
        "%cd cond-data-flow\n",
        "\n"
      ],
      "metadata": {
        "colab": {
          "base_uri": "https://localhost:8080/"
        },
        "id": "uPZyVC1eT1Sc",
        "outputId": "e5113568-6cce-43b7-8a40-25ed8404b79f"
      },
      "execution_count": null,
      "outputs": [
        {
          "output_type": "stream",
          "name": "stdout",
          "text": [
            "Drive already mounted at /content/drive; to attempt to forcibly remount, call drive.mount(\"/content/drive\", force_remount=True).\n",
            "Cloning into 'cond-data-flow'...\n",
            "Host key verification failed.\n",
            "fatal: Could not read from remote repository.\n",
            "\n",
            "Please make sure you have the correct access rights\n",
            "and the repository exists.\n",
            "[Errno 2] No such file or directory: 'cond-data-flow'\n",
            "/content\n"
          ]
        }
      ]
    },
    {
      "cell_type": "code",
      "source": [
        "%run '/content/drive/My Drive/Flow Functions/kernels.py'\n",
        "%run '/content/drive/My Drive/Flow Functions/sample_points.py'\n",
        "%run '/content/drive/My Drive/Flow Functions/generate_params.py'\n",
        "%run '/content/drive/My Drive/Flow Functions/plot_tools.py'"
      ],
      "metadata": {
        "id": "WlxexE-Z88HE"
      },
      "execution_count": null,
      "outputs": []
    },
    {
      "cell_type": "code",
      "execution_count": null,
      "metadata": {
        "id": "DQgdstQlq0vs"
      },
      "outputs": [],
      "source": [
        "# define dataset\n",
        "N = 500\n",
        "M = 20 * N\n",
        "LM = True\n",
        "\n",
        "data_array = sample_moon(N, M, LM)\n",
        "Zinitial = data_array[0]\n",
        "Zcurrent = data_array[1]\n",
        "Zjoint = data_array[2]\n",
        "Zlm = data_array[3]"
      ]
    },
    {
      "cell_type": "code",
      "source": [
        "\n",
        "\"\"\"\n",
        "Parameters for gradient flow\n",
        "Currently picking bounds for learning rates and bandwidths is extremely finnicky (easy to get NaNs)\n",
        "Planning to introduce gradient clipping to avoid this\n",
        "\"\"\"\n",
        "\n",
        "#Choose kernel and bandwidth selector\n",
        "RHS = RHS_poly\n",
        "d = dists\n",
        "\n",
        "maxIter = 10_000 # number of flow iterations\n",
        "max_lr = .1\n",
        "min_lr = .1\n",
        "lrs = make_lrs(Zcurrent, Zjoint, min_lr, max_lr) # nearest-neighbor based local learning rate\n",
        "\n",
        "#If SGD true, then only use Msub, Nsub points\n",
        "SGD = False\n",
        "Msub = int(M/5); Nsub = int(N/4)\n",
        "\n",
        "\n",
        "\n",
        "#For bandwidth selections: # of neighbor points, bandwidth range\n",
        "neighbors_product = 25\n",
        "neighbors_joint = 15\n",
        "min_bw = .1\n",
        "max_bw = .2\n",
        "\n",
        "#Determines how many iterations between bandwidth refreshes\n",
        "refresh_rate = 100\n",
        "\n",
        "#Create triangular cost\n",
        "lam = 100_000\n",
        "lamMat = make_lambda(lam, 1, 1)\n",
        "\n",
        "#Minimum and maximum values for gradient clipping\n",
        "grad_min = -lam\n",
        "grad_max = lam\n",
        "\n",
        "if SGD:\n",
        "  Zcr = Zcurrent[np.random.choice(M, size = Msub, replace = False, p = None),:]\n",
        "  Zjnt = Zjoint[np.random.choice(N, size = Nsub, replace = False, p = None),:]\n",
        "\n",
        "  bw = d(Zcr, neighbors_product, min_bw, max_bw)\n",
        "  bwtar = d(Zjoint, neighbors_joint, min_bw, max_bw)\n",
        "else:\n",
        "  bw = d(Zcurrent, neighbors_product, min_bw, max_bw)\n",
        "  bwtar = d(Zjoint, neighbors_joint, min_bw, max_bw)\n"
      ],
      "metadata": {
        "id": "LPFTKP2X0puv"
      },
      "execution_count": null,
      "outputs": []
    },
    {
      "cell_type": "code",
      "source": [
        "\"\"\"\n",
        "Main Loop Basis\n",
        "JIT Breaks this for some reason\n",
        "\"\"\"\n",
        "\n",
        "def single_iter(Zcr, bw, lrs):\n",
        "\n",
        "  G = RHS(Zcr, Zcurrent, Zjoint, bw, bwtar)\n",
        "  G_tri = jnp.matmul(lamMat, G).T\n",
        "  G_clip = jnp.clip(G_tri, grad_min, grad_max)\n",
        "\n",
        "  return Zcr - lrs * G_clip\n",
        "\n",
        "single_iters = vmap(single_iter, in_axes = (0, 0, None))"
      ],
      "metadata": {
        "id": "J6vl-bVPHgd1"
      },
      "execution_count": null,
      "outputs": []
    },
    {
      "cell_type": "code",
      "source": [
        "\"\"\"\n",
        "Simple Main Loop\n",
        "\"\"\"\n",
        "\n",
        "now = time.time()\n",
        "\n",
        "for i in range(maxIter):\n",
        "\n",
        "  if (i % refresh_rate) == 0:\n",
        "    bw = d(Zcurrent, neighbors_product, min_bw, max_bw)\n",
        "    lrs = make_lrs(Zcurrent, Zjoint, min_lr, max_lr)\n",
        "\n",
        "  Zcurrent = single_iter(Zcurrent, bw, lrs)\n",
        "\n",
        "t = jnp.round(time.time() - now, 2)\n",
        "print('Execution time =', t)"
      ],
      "metadata": {
        "colab": {
          "base_uri": "https://localhost:8080/"
        },
        "id": "uNHOIkTIyOx1",
        "outputId": "b1ed3833-dbfd-41ea-f69f-47219fa6719d"
      },
      "execution_count": null,
      "outputs": [
        {
          "output_type": "stream",
          "name": "stdout",
          "text": [
            "Execution time = 73.47\n"
          ]
        }
      ]
    },
    {
      "cell_type": "code",
      "source": [
        "\"\"\"\n",
        "Main Loop with integrated LMs\n",
        "\"\"\"\n",
        "\n",
        "now = time.time()\n",
        "\n",
        "for i in range(maxIter):\n",
        "\n",
        "  if (i % refresh_rate) == 0:\n",
        "    bw = d(Zcurrent, neighbors_product, min_bw, max_bw)\n",
        "    bw_lm = d(Zlm, neighbors_product, min_bw, max_bw)\n",
        "    lrs = make_lrs(Zcurrent, Zjoint, min_lr, max_lr)\n",
        "\n",
        "  \"\"\"\n",
        "  flows = jnp.array([Zcurrent, Zlm])\n",
        "  bws = jnp.array([bw, bw_lm])\n",
        "\n",
        "  updates = single_iters(flows, bws, lrs)\n",
        "  Zcurrent = updates[0]\n",
        "  Zlm = updates[1]\n",
        "  \"\"\"\n",
        "\n",
        "  Zlm = single_iter(Zlm, bw_lm, lrs)\n",
        "  Zcurrent = single_iter(Zcurrent, bw, lrs)\n",
        "\n",
        "t = jnp.round(time.time() - now, 2)\n",
        "print('Execution time =', t)"
      ],
      "metadata": {
        "id": "n9gIF91eH08v",
        "colab": {
          "base_uri": "https://localhost:8080/"
        },
        "outputId": "525fcbdf-71ed-4685-d612-22cdc96e49dd"
      },
      "execution_count": null,
      "outputs": [
        {
          "output_type": "stream",
          "name": "stdout",
          "text": [
            "Execution time = 147.95999\n"
          ]
        }
      ]
    },
    {
      "cell_type": "code",
      "execution_count": null,
      "metadata": {
        "id": "k7y0wAt-uNUo",
        "colab": {
          "base_uri": "https://localhost:8080/",
          "height": 694
        },
        "outputId": "6b3bde09-b65a-498e-cad6-eb4a81f8173e"
      },
      "outputs": [
        {
          "output_type": "stream",
          "name": "stdout",
          "text": [
            "Mean movement in the y direction 196.67409\n"
          ]
        },
        {
          "output_type": "display_data",
          "data": {
            "text/plain": [
              "<Figure size 1000x800 with 1 Axes>"
            ],
            "image/png": "[encoded data removed]"
          },
          "metadata": {}
        }
      ],
      "source": [
        "#For plot saving\n",
        "info = [RHS.__name__, str(maxIter), str(min_bw) + \" to \" + str(max_bw), str(min_lr) + \" to \" + str(max_lr), str(neighbors_product), str(refresh_rate), \"ss\"]\n",
        "save = False\n",
        "make_plot(info, save, Zinitial, Zcurrent, Zjoint)\n"
      ]
    },
    {
      "cell_type": "code",
      "source": [
        "y_mvmt(Zcurrent, Zinitial)"
      ],
      "metadata": {
        "id": "66UFzBnpU3FF",
        "outputId": "24a99f26-fb2e-47a5-dcbe-da361e8048fd",
        "colab": {
          "base_uri": "https://localhost:8080/",
          "height": 448
        }
      },
      "execution_count": null,
      "outputs": [
        {
          "output_type": "stream",
          "name": "stdout",
          "text": [
            "Mean movement in the y direction 196.67409\n"
          ]
        },
        {
          "output_type": "display_data",
          "data": {
            "text/plain": [
              "<Figure size 640x480 with 1 Axes>"
            ],
            "image/png": "[encoded data removed]"
          },
          "metadata": {}
        }
      ]
    },
    {
      "cell_type": "code",
      "source": [
        "#Estimate with Lagrangia markers\n",
        "#Check the estimated conditional density rho(x|ystr)\n",
        "ystr=1\n",
        "LM_est(ystr)"
      ],
      "metadata": {
        "id": "CM-UFytJUoco",
        "colab": {
          "base_uri": "https://localhost:8080/",
          "height": 339
        },
        "outputId": "de2becc5-b4d5-4d17-fa1a-5aa2d3d9eeca"
      },
      "execution_count": null,
      "outputs": [
        {
          "output_type": "error",
          "ename": "NameError",
          "evalue": "ignored",
          "traceback": [
            "\u001b[0;31m---------------------------------------------------------------------------\u001b[0m",
            "\u001b[0;31mNameError\u001b[0m                                 Traceback (most recent call last)",
            "\u001b[0;32m<ipython-input-15-624dcbbeeac8>\u001b[0m in \u001b[0;36m<cell line: 4>\u001b[0;34m()\u001b[0m\n\u001b[1;32m      2\u001b[0m \u001b[0;31m#Check the estimated conditional density rho(x|ystr)\u001b[0m\u001b[0;34m\u001b[0m\u001b[0;34m\u001b[0m\u001b[0m\n\u001b[1;32m      3\u001b[0m \u001b[0mystr\u001b[0m\u001b[0;34m=\u001b[0m\u001b[0;36m1\u001b[0m\u001b[0;34m\u001b[0m\u001b[0;34m\u001b[0m\u001b[0m\n\u001b[0;32m----> 4\u001b[0;31m \u001b[0mLM_est\u001b[0m\u001b[0;34m(\u001b[0m\u001b[0mystr\u001b[0m\u001b[0;34m)\u001b[0m\u001b[0;34m\u001b[0m\u001b[0;34m\u001b[0m\u001b[0m\n\u001b[0m",
            "\u001b[0;32m/content/drive/My Drive/Flow Functions/plot_tools.py\u001b[0m in \u001b[0;36mLM_est\u001b[0;34m(ystr)\u001b[0m\n\u001b[1;32m     59\u001b[0m   \u001b[0mtruthcd\u001b[0m\u001b[0;34m=\u001b[0m\u001b[0mpxcy\u001b[0m\u001b[0;34m(\u001b[0m\u001b[0mxgrid\u001b[0m\u001b[0;34m,\u001b[0m\u001b[0mystr\u001b[0m\u001b[0;34m)\u001b[0m\u001b[0;34m/\u001b[0m\u001b[0mnfact\u001b[0m\u001b[0;34m[\u001b[0m\u001b[0;36m0\u001b[0m\u001b[0;34m]\u001b[0m\u001b[0;34m\u001b[0m\u001b[0;34m\u001b[0m\u001b[0m\n\u001b[1;32m     60\u001b[0m \u001b[0;34m\u001b[0m\u001b[0m\n\u001b[0;32m---> 61\u001b[0;31m   \u001b[0mkernel_lm\u001b[0m\u001b[0;34m=\u001b[0m\u001b[0mscipy\u001b[0m\u001b[0;34m.\u001b[0m\u001b[0mstats\u001b[0m\u001b[0;34m.\u001b[0m\u001b[0mgaussian_kde\u001b[0m\u001b[0;34m(\u001b[0m\u001b[0mZlm\u001b[0m\u001b[0;34m[\u001b[0m\u001b[0;34m:\u001b[0m\u001b[0;34m,\u001b[0m\u001b[0;36m0\u001b[0m\u001b[0;34m]\u001b[0m\u001b[0;34m)\u001b[0m\u001b[0;34m\u001b[0m\u001b[0;34m\u001b[0m\u001b[0m\n\u001b[0m\u001b[1;32m     62\u001b[0m \u001b[0;34m\u001b[0m\u001b[0m\n\u001b[1;32m     63\u001b[0m   \u001b[0mfig\u001b[0m\u001b[0;34m,\u001b[0m \u001b[0maxs\u001b[0m \u001b[0;34m=\u001b[0m \u001b[0mplt\u001b[0m\u001b[0;34m.\u001b[0m\u001b[0msubplots\u001b[0m\u001b[0;34m(\u001b[0m\u001b[0;36m1\u001b[0m\u001b[0;34m,\u001b[0m\u001b[0;36m2\u001b[0m\u001b[0;34m,\u001b[0m\u001b[0mfigsize\u001b[0m\u001b[0;34m=\u001b[0m\u001b[0;34m(\u001b[0m\u001b[0;36m16\u001b[0m\u001b[0;34m,\u001b[0m\u001b[0;36m9\u001b[0m\u001b[0;34m)\u001b[0m\u001b[0;34m)\u001b[0m\u001b[0;34m\u001b[0m\u001b[0;34m\u001b[0m\u001b[0m\n",
            "\u001b[0;31mNameError\u001b[0m: name 'Zlm' is not defined"
          ]
        }
      ]
    }
  ],
  "metadata": {
    "colab": {
      "provenance": [],
      "gpuType": "T4"
    },
    "kernelspec": {
      "display_name": "Python 3",
      "name": "python3"
    },
    "language_info": {
      "name": "python"
    },
    "accelerator": "GPU"
  },
  "nbformat": 4,
  "nbformat_minor": 0
}