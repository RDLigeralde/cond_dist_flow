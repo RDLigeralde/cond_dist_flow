{
  "nbformat": 4,
  "nbformat_minor": 0,
  "metadata": {
    "colab": {
      "provenance": []
    },
    "kernelspec": {
      "name": "python3",
      "display_name": "Python 3"
    },
    "language_info": {
      "name": "python"
    }
  },
  "cells": [
    {
      "cell_type": "code",
      "execution_count": null,
      "metadata": {
        "id": "4kzwzyAqS3Rh"
      },
      "outputs": [],
      "source": [
        "import matplotlib.pyplot as plt\n",
        "import numpy as np\n",
        "import scipy"
      ]
    },
    {
      "cell_type": "code",
      "source": [
        "\"\"\"\n",
        "Check Main Loop Progress\n",
        "\"\"\"\n",
        "def make_plot(info, save, Zinitial, Zcurrent, Zjoint):\n",
        "  plt.figure(figsize=(10,8))\n",
        "  plt.plot(Zinitial[:,0], Zinitial[:,1], '.b', label='Initial', alpha=0.2)\n",
        "  plt.plot(Zcurrent[:,0], Zcurrent[:,1], '.g', label='Current', alpha=1)\n",
        "  plt.plot(Zjoint[:,0], Zjoint[:,1], '.r', label='Target', alpha=1)\n",
        "  plt.legend()\n",
        "\n",
        "  if save:\n",
        "    file_name_parts = [\"Kernel = \", info[0], \", Iters = \", info[1], \", BW Range = \", info[2], \", LR Range = \", info[3], \", Neighbors = \", info[4], \", Refresh Rate = \", info[5], \", Execution Time = \", info[6], \".png\"]\n",
        "    filename = \"\".join(file_name_parts)\n",
        "    plt.savefig(filename)\n",
        "    files.download(filename)"
      ],
      "metadata": {
        "id": "Z2eEuMDqTChH"
      },
      "execution_count": null,
      "outputs": []
    },
    {
      "cell_type": "code",
      "source": [
        "\"\"\"\n",
        "Check for extent of y movementr\n",
        "\"\"\"\n",
        "def y_mvmt(Zcurrent, Zinitial):\n",
        "  mm = np.abs(Zcurrent[:,1]-Zinitial[:,1])\n",
        "  plt.plot(mm)\n",
        "  print('Mean movement in the y direction',np.mean(mm))"
      ],
      "metadata": {
        "colab": {
          "base_uri": "https://localhost:8080/",
          "height": 143
        },
        "id": "ctls3t98TKTh",
        "outputId": "d4938112-ee2d-4f21-ca0b-c817dc1e02aa"
      },
      "execution_count": null,
      "outputs": [
        {
          "output_type": "error",
          "ename": "SyntaxError",
          "evalue": "ignored",
          "traceback": [
            "\u001b[0;36m  File \u001b[0;32m\"<ipython-input-1-bb88557bf18d>\"\u001b[0;36m, line \u001b[0;32m1\u001b[0m\n\u001b[0;31m    \"\"\"\u001b[0m\n\u001b[0m    ^\u001b[0m\n\u001b[0;31mSyntaxError\u001b[0m\u001b[0;31m:\u001b[0m incomplete input\n"
          ]
        }
      ]
    },
    {
      "cell_type": "code",
      "source": [
        "\"\"\"\n",
        "Check LM Progress\n",
        "\"\"\"\n",
        "\n",
        "def LM_est(Zlm, ystr):\n",
        "  dy = 0.05\n",
        "  xgrid = np.linspace(-3,3,500)\n",
        "\n",
        "  def pycx(x,ystr):\n",
        "    s = 0.5; s2 = s**2;\n",
        "    m = ystr-(x**2-1)\n",
        "    return np.exp(-(m**2)/(2*s2))/np.sqrt(2*np.pi*s2)\n",
        "\n",
        "  def px(x):\n",
        "    return np.exp(-(x**2)/(2))/np.sqrt(2*np.pi)\n",
        "\n",
        "  def pxcy(x,ystr):\n",
        "    return pycx(x,ystr)*px(x)\n",
        "\n",
        "  nfact = scipy.integrate.quad(pxcy,-np.inf,+np.inf,args=ystr)\n",
        "\n",
        "  truthcd=pxcy(xgrid,ystr)/nfact[0]\n",
        "\n",
        "  kernel_lm=scipy.stats.gaussian_kde(Zlm[:,0])\n",
        "\n",
        "  fig, axs = plt.subplots(1,2,figsize=(16,9))\n",
        "\n",
        "  axs[0].plot(xgrid,truthcd,'.b')\n",
        "  axs[0].plot(xgrid,kernel_lm(xgrid),'.r')\n",
        "  axs[0].title.set_text('Estimated cond densities lm')\n",
        "\n",
        "  axs[1].plot(xgrid,np.abs(kernel_lm(xgrid)-truthcd),'.b')\n",
        "\n",
        "  axs[1].title.set_text('Errors')"
      ],
      "metadata": {
        "id": "thPdlHHITSuD"
      },
      "execution_count": null,
      "outputs": []
    }
  ]
}