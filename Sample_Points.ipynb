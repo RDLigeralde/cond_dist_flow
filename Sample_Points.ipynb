{
  "nbformat": 4,
  "nbformat_minor": 0,
  "metadata": {
    "colab": {
      "provenance": []
    },
    "kernelspec": {
      "name": "python3",
      "display_name": "Python 3"
    },
    "language_info": {
      "name": "python"
    }
  },
  "cells": [
    {
      "cell_type": "code",
      "execution_count": null,
      "metadata": {
        "id": "XMn9SJsFWyvH"
      },
      "outputs": [],
      "source": [
        "import jax.numpy as jnp\n",
        "import numpy as np"
      ]
    },
    {
      "cell_type": "code",
      "source": [
        "\n",
        "def sample_moon(N, M, LM, ystr):\n",
        "\n",
        "  data = np.zeros([N,2])\n",
        "  for i in range(N):\n",
        "      data[i,0] = np.random.randn()\n",
        "      data[i,1]= 0.5 * np.random.randn() + data[i,0] ** 2 - 1\n",
        "\n",
        "  data_product = np.transpose([np.tile(data[:,0], N), np.repeat(data[:,1], N)])\n",
        "\n",
        "  data_product_get = data_product[np.random.choice(N**2, M, replace=False),:]\n",
        "\n",
        "  Zcurrent = jnp.array(sorted(data_product_get, key = lambda x: x[0]))\n",
        "  Zinitial = Zcurrent.copy()\n",
        "\n",
        "  Zjoint = jnp.array(sorted(data, key = lambda x: x[0]))\n",
        "\n",
        "  if LM:\n",
        "    #to estimate rho(x|ystr_lm)\n",
        "    Zlm = np.zeros((M,2))\n",
        "    Zlm[:,0] = np.random.randn(M)\n",
        "    Zlm[:,1] = np.ones(M) * ystr\n",
        "    Zlm = jnp.array(sorted(Zlm, key = lambda x: x[0]))\n",
        "    return [Zinitial, Zcurrent, Zjoint, Zlm]\n",
        "\n",
        "  else:\n",
        "    return [Zinitial, Zcurrent, Zjoint]\n"
      ],
      "metadata": {
        "id": "M5xikVNQYgg5"
      },
      "execution_count": null,
      "outputs": []
    }
  ]
}